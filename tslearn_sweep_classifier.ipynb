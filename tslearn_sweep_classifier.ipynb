{
 "cells": [
  {
   "cell_type": "code",
   "execution_count": 1,
   "id": "83078cc6-dd58-4fb7-a936-610e228f7201",
   "metadata": {},
   "outputs": [],
   "source": [
    "%reload_ext autoreload\n",
    "%autoreload 2\n",
    "\n",
    "import msprime "
   ]
  },
  {
   "cell_type": "code",
   "execution_count": 2,
   "id": "7f8584b2-0878-4053-98ca-6c3f20627140",
   "metadata": {},
   "outputs": [],
   "source": [
    "from tslearn.imports import *\n",
    "from tslearn.helpers import *\n",
    "from tslearn.networks import *\n",
    "from tslearn.simulator import *\n",
    "from tslearn.treesBatchGenerator import *\n"
   ]
  },
  {
   "cell_type": "code",
   "execution_count": 3,
   "id": "f53c2305-9888-4c79-972c-3ad3ea212f1a",
   "metadata": {},
   "outputs": [],
   "source": [
    "# make directory tree\n",
    "cwd = os.getcwd()\n",
    "sets = [\"train\",\"vali\",\"test\"]\n",
    "for subset in (\"trees\",\"results\"):\n",
    "    subDir = os.path.join(cwd, subset)\n",
    "    if not os.path.exists(subDir):\n",
    "        os.mkdir(subDir)\n",
    "treeDir = os.path.join(cwd,\"trees\")\n",
    "for subset in sets:\n",
    "    subDir = os.path.join(treeDir,subset)\n",
    "    if not os.path.exists(subDir):\n",
    "        os.mkdir(subDir)"
   ]
  },
  {
   "cell_type": "code",
   "execution_count": 4,
   "id": "937f25ea-b684-42e8-b0bf-2ebf0436cb9f",
   "metadata": {},
   "outputs": [
    {
     "name": "stdout",
     "output_type": "stream",
     "text": [
      "Simulate...\n",
      "Simulate...\n",
      "Simulate...\n"
     ]
    }
   ],
   "source": [
    "# assign simulation parameters\n",
    "numReps = [int(1e4), int(1e3), int(1e3)]\n",
    "mrPrior = [1e-8, 1e-8]\n",
    "rrPrior = [1e-9, 1e-9]\n",
    "sPrior = [1e-1, 1e-1]\n",
    "\n",
    "sample_size = 10\n",
    "nProc=mp.cpu_count()\n",
    "\n",
    "dg_params = {\n",
    "    'seed':1234,\n",
    "    'N':sample_size,\n",
    "    'Ne':1e4,\n",
    "    'mrPrior':mrPrior,\n",
    "    'rrPrior':rrPrior,\n",
    "    'chromLength':1e6,\n",
    "    's':sPrior,\n",
    "    'ReLERNN':False\n",
    "          }\n",
    "    \n",
    "# simulate and produce trees\n",
    "max_table_size = np.zeros(5) #[max_nodes, max_edges, max_sites, max_mutations, max_trees]\n",
    "for i, subset in enumerate(sets):\n",
    "    data_generator = SimulatorSweep(**dg_params)\n",
    "    direc = os.path.join(treeDir,subset)\n",
    "    table_lens = data_generator.simulateAndProduceTrees(numReps=numReps[i],\n",
    "            direc=direc,simulator=\"msprime\",nProc=nProc)\n",
    "    if subset != \"test\":\n",
    "        max_table_size = np.maximum(max_table_size, table_lens)\n",
    "    "
   ]
  },
  {
   "cell_type": "code",
   "execution_count": 5,
   "id": "7e110abf-6296-4974-ab32-0f642ede5cd1",
   "metadata": {},
   "outputs": [],
   "source": [
    "# initialize universal batch generator params\n",
    "train_batch_params = {\n",
    "    'targetNormalization':'binary',\n",
    "    'batchSize': 64,\n",
    "    'frameWidth': 0,\n",
    "    'center':True,\n",
    "    'shuffleExamples':True,\n",
    "    'maxTsTableSize':max_table_size,\n",
    "    'ReLERNN':False\n",
    "          }\n",
    "vali_batch_params = copy.deepcopy(train_batch_params)\n",
    "test_batch_params = copy.deepcopy(train_batch_params)\n",
    "\n",
    "# define set-specific parameters\n",
    "targets = [\n",
    "        \"sel_coefs\",\n",
    "        ]\n",
    "\n",
    "params = [train_batch_params, vali_batch_params, test_batch_params]\n",
    "for i, subset in enumerate(sets):\n",
    "    # universal params    \n",
    "    params[i]['treesDirectory'] = os.path.join(treeDir,subset)\n",
    "    params[i]['numReps'] = numReps[i]\n",
    "    info = pickle.load(open(os.path.join(os.path.join(treeDir, subset),\"info.p\"), \"rb\"))\n",
    "    params[i]['rawTargets'] = [info[target] for target in targets]\n",
    "\n",
    "    # test specific params\n",
    "    if subset == \"test\":\n",
    "        params[i]['batchSize'] = numReps[i]\n",
    "        params[i]['shuffleExamples'] = False\n",
    "\n",
    "    #False write batch parameters\n",
    "    batchParsFILE=os.path.join(treeDir,\"{}_batch_params.p\".format(subset))\n",
    "    with open(batchParsFILE, \"wb\") as fOUT:\n",
    "        pickle.dump(params[i],fOUT)\n",
    "\n",
    "## initialize batch generators\n",
    "train_batch_gen = treesBatchGenerator(**train_batch_params)\n",
    "vali_batch_gen = treesBatchGenerator(**vali_batch_params)\n",
    "test_batch_gen = treesBatchGenerator(**test_batch_params)"
   ]
  },
  {
   "cell_type": "code",
   "execution_count": 56,
   "id": "5d95345e-007a-403a-88e7-0aae66326acd",
   "metadata": {},
   "outputs": [
    {
     "ename": "TypeError",
     "evalue": "'float' object is not subscriptable",
     "output_type": "error",
     "traceback": [
      "\u001b[0;31m---------------------------------------------------------------------------\u001b[0m",
      "\u001b[0;31mTypeError\u001b[0m                                 Traceback (most recent call last)",
      "\u001b[0;32m<ipython-input-56-71a33fd304cd>\u001b[0m in \u001b[0;36m<module>\u001b[0;34m\u001b[0m\n\u001b[1;32m     13\u001b[0m         }\n\u001b[1;32m     14\u001b[0m \u001b[0;34m\u001b[0m\u001b[0m\n\u001b[0;32m---> 15\u001b[0;31m history = train_model(ModelFuncPointer=netArchs[\"CNN2D\"],\n\u001b[0m\u001b[1;32m     16\u001b[0m         \u001b[0mModelName\u001b[0m\u001b[0;34m=\u001b[0m\u001b[0;34m\"CNN2D\"\u001b[0m\u001b[0;34m,\u001b[0m\u001b[0;34m\u001b[0m\u001b[0;34m\u001b[0m\u001b[0m\n\u001b[1;32m     17\u001b[0m         \u001b[0mtargetLabels\u001b[0m\u001b[0;34m=\u001b[0m\u001b[0mtargets\u001b[0m\u001b[0;34m,\u001b[0m\u001b[0;34m\u001b[0m\u001b[0;34m\u001b[0m\u001b[0m\n",
      "\u001b[0;32m~/msprime/tslearn/tslearn/helpers.py\u001b[0m in \u001b[0;36mtrain_model\u001b[0;34m(ModelFuncPointer, ModelName, targetLabels, TrainGenerator, ValidationGenerator, TestGenerator, resultsFile, numEpochs, epochSteps, network, nProc, gpuID)\u001b[0m\n\u001b[1;32m    128\u001b[0m     \u001b[0mSession\u001b[0m\u001b[0;34m(\u001b[0m\u001b[0mconfig\u001b[0m\u001b[0;34m=\u001b[0m\u001b[0mconfig\u001b[0m\u001b[0;34m)\u001b[0m\u001b[0;34m\u001b[0m\u001b[0;34m\u001b[0m\u001b[0m\n\u001b[1;32m    129\u001b[0m \u001b[0;34m\u001b[0m\u001b[0m\n\u001b[0;32m--> 130\u001b[0;31m     \u001b[0mx\u001b[0m\u001b[0;34m,\u001b[0m\u001b[0my\u001b[0m \u001b[0;34m=\u001b[0m \u001b[0mTrainGenerator\u001b[0m\u001b[0;34m.\u001b[0m\u001b[0m__getitem__\u001b[0m\u001b[0;34m(\u001b[0m\u001b[0;36m0\u001b[0m\u001b[0;34m)\u001b[0m\u001b[0;34m\u001b[0m\u001b[0;34m\u001b[0m\u001b[0m\n\u001b[0m\u001b[1;32m    131\u001b[0m \u001b[0;34m\u001b[0m\u001b[0m\n\u001b[1;32m    132\u001b[0m     \u001b[0;31m# early stopping and saving the best weights\u001b[0m\u001b[0;34m\u001b[0m\u001b[0;34m\u001b[0m\u001b[0;34m\u001b[0m\u001b[0m\n",
      "\u001b[0;32m~/msprime/tslearn/tslearn/treesBatchGenerator.py\u001b[0m in \u001b[0;36m__getitem__\u001b[0;34m(self, idx)\u001b[0m\n\u001b[1;32m    445\u001b[0m             \u001b[0mx\u001b[0m\u001b[0;34m,\u001b[0m \u001b[0my\u001b[0m \u001b[0;34m=\u001b[0m \u001b[0mself\u001b[0m\u001b[0;34m.\u001b[0m\u001b[0m__data_generation_ReLERNN\u001b[0m\u001b[0;34m(\u001b[0m\u001b[0mindices\u001b[0m\u001b[0;34m)\u001b[0m\u001b[0;34m\u001b[0m\u001b[0;34m\u001b[0m\u001b[0m\n\u001b[1;32m    446\u001b[0m         \u001b[0;32melse\u001b[0m\u001b[0;34m:\u001b[0m\u001b[0;34m\u001b[0m\u001b[0;34m\u001b[0m\u001b[0m\n\u001b[0;32m--> 447\u001b[0;31m             \u001b[0mx\u001b[0m\u001b[0;34m,\u001b[0m \u001b[0my\u001b[0m \u001b[0;34m=\u001b[0m \u001b[0mself\u001b[0m\u001b[0;34m.\u001b[0m\u001b[0m__data_generation\u001b[0m\u001b[0;34m(\u001b[0m\u001b[0mindices\u001b[0m\u001b[0;34m)\u001b[0m\u001b[0;34m\u001b[0m\u001b[0;34m\u001b[0m\u001b[0m\n\u001b[0m\u001b[1;32m    448\u001b[0m         \u001b[0;32mreturn\u001b[0m \u001b[0mx\u001b[0m\u001b[0;34m,\u001b[0m\u001b[0my\u001b[0m\u001b[0;34m\u001b[0m\u001b[0;34m\u001b[0m\u001b[0m\n\u001b[1;32m    449\u001b[0m \u001b[0;34m\u001b[0m\u001b[0m\n",
      "\u001b[0;32m~/msprime/tslearn/tslearn/treesBatchGenerator.py\u001b[0m in \u001b[0;36m__data_generation\u001b[0;34m(self, batchTreeIndices)\u001b[0m\n\u001b[1;32m    460\u001b[0m             \u001b[0;31m#cptd = pickle.load(open(cptdFilePath,\"rb\"))\u001b[0m\u001b[0;34m\u001b[0m\u001b[0;34m\u001b[0m\u001b[0;34m\u001b[0m\u001b[0m\n\u001b[1;32m    461\u001b[0m             \u001b[0mtsTensor\u001b[0m \u001b[0;34m=\u001b[0m \u001b[0mTsEncoder\u001b[0m\u001b[0;34m(\u001b[0m\u001b[0mts\u001b[0m\u001b[0;34m,\u001b[0m \u001b[0mwidth\u001b[0m\u001b[0;34m=\u001b[0m\u001b[0;36m1000\u001b[0m\u001b[0;34m)\u001b[0m\u001b[0;34m\u001b[0m\u001b[0;34m\u001b[0m\u001b[0m\n\u001b[0;32m--> 462\u001b[0;31m             \u001b[0mtsTensor\u001b[0m\u001b[0;34m.\u001b[0m\u001b[0madd_node_time_layer\u001b[0m\u001b[0;34m(\u001b[0m\u001b[0;34m)\u001b[0m\u001b[0;34m\u001b[0m\u001b[0;34m\u001b[0m\u001b[0m\n\u001b[0m\u001b[1;32m    463\u001b[0m             \u001b[0;31m#tsTensor.add_parent_pointer()\u001b[0m\u001b[0;34m\u001b[0m\u001b[0;34m\u001b[0m\u001b[0;34m\u001b[0m\u001b[0m\n\u001b[1;32m    464\u001b[0m             \u001b[0;31m#tsTensor.add_branch_length_layer()\u001b[0m\u001b[0;34m\u001b[0m\u001b[0;34m\u001b[0m\u001b[0;34m\u001b[0m\u001b[0m\n",
      "\u001b[0;32m~/msprime/tslearn/tslearn/encoder.py\u001b[0m in \u001b[0;36madd_node_time_layer\u001b[0;34m(self)\u001b[0m\n\u001b[1;32m    293\u001b[0m \u001b[0;34m\u001b[0m\u001b[0m\n\u001b[1;32m    294\u001b[0m         \u001b[0;32mfor\u001b[0m \u001b[0mi\u001b[0m\u001b[0;34m,\u001b[0m \u001b[0mnode\u001b[0m \u001b[0;32min\u001b[0m \u001b[0menumerate\u001b[0m\u001b[0;34m(\u001b[0m\u001b[0mself\u001b[0m\u001b[0;34m.\u001b[0m\u001b[0mts\u001b[0m\u001b[0;34m.\u001b[0m\u001b[0mnodes\u001b[0m\u001b[0;34m(\u001b[0m\u001b[0;34m)\u001b[0m\u001b[0;34m)\u001b[0m\u001b[0;34m:\u001b[0m\u001b[0;34m\u001b[0m\u001b[0;34m\u001b[0m\u001b[0m\n\u001b[0;32m--> 295\u001b[0;31m             \u001b[0mself\u001b[0m\u001b[0;34m.\u001b[0m\u001b[0mEncoding\u001b[0m\u001b[0;34m[\u001b[0m\u001b[0mi\u001b[0m\u001b[0;34m,\u001b[0m \u001b[0;36m0\u001b[0m\u001b[0;34m:\u001b[0m\u001b[0mself\u001b[0m\u001b[0;34m.\u001b[0m\u001b[0mwidth\u001b[0m\u001b[0;34m,\u001b[0m \u001b[0mself\u001b[0m\u001b[0;34m.\u001b[0m\u001b[0mlayerIndex\u001b[0m\u001b[0;34m]\u001b[0m \u001b[0;34m=\u001b[0m \u001b[0mnode\u001b[0m\u001b[0;34m.\u001b[0m\u001b[0mtime\u001b[0m\u001b[0;34m[\u001b[0m\u001b[0;36m0\u001b[0m\u001b[0;34m]\u001b[0m\u001b[0;34m\u001b[0m\u001b[0;34m\u001b[0m\u001b[0m\n\u001b[0m\u001b[1;32m    296\u001b[0m \u001b[0;34m\u001b[0m\u001b[0m\n\u001b[1;32m    297\u001b[0m         \u001b[0;32mreturn\u001b[0m \u001b[0;32mNone\u001b[0m\u001b[0;34m\u001b[0m\u001b[0;34m\u001b[0m\u001b[0m\n",
      "\u001b[0;31mTypeError\u001b[0m: 'float' object is not subscriptable"
     ]
    }
   ],
   "source": [
    "##########################TRAIN##########################\n",
    "## define model files\n",
    "modelFile = os.path.join(cwd,\"results\",\"model.json\")\n",
    "weightsFile = os.path.join(cwd,\"results\",\"weights.h5\")\n",
    "resultsFile = os.path.join(cwd,\"results\",\"model.results\")\n",
    "resultsFig = os.path.join(cwd,\"results\",\"results.pdf\")\n",
    "\n",
    "netArchs = {\n",
    "        \"ReLERNN\" : RELERNN,\n",
    "        \"LSTM4C_class\" : LSTM4C_class,\n",
    "        \"DENSE4_class\" : DENSE4_class,\n",
    "        \"CNN2D\" : CNN2D,\n",
    "        }\n",
    "\n",
    "history = train_model(ModelFuncPointer=netArchs[\"CNN2D\"],\n",
    "        ModelName=\"CNN2D\",\n",
    "        targetLabels=targets,\n",
    "        TrainGenerator=train_batch_gen,\n",
    "        ValidationGenerator=vali_batch_gen,\n",
    "        TestGenerator=test_batch_gen,\n",
    "        numEpochs=20,\n",
    "        resultsFile=resultsFile,\n",
    "        network=[modelFile,weightsFile],\n",
    "        nProc=1,\n",
    "        gpuID=2)"
   ]
  },
  {
   "cell_type": "code",
   "execution_count": 57,
   "id": "2f674c37-b5e7-4db0-8540-787c6d31e176",
   "metadata": {},
   "outputs": [
    {
     "ename": "TypeError",
     "evalue": "'float' object is not subscriptable",
     "output_type": "error",
     "traceback": [
      "\u001b[0;31m---------------------------------------------------------------------------\u001b[0m",
      "\u001b[0;31mTypeError\u001b[0m                                 Traceback (most recent call last)",
      "\u001b[0;32m<ipython-input-57-968775d6af8f>\u001b[0m in \u001b[0;36m<module>\u001b[0;34m\u001b[0m\n\u001b[0;32m----> 1\u001b[0;31m \u001b[0mb\u001b[0m \u001b[0;34m=\u001b[0m \u001b[0mtrain_batch_gen\u001b[0m\u001b[0;34m.\u001b[0m\u001b[0m_treesBatchGenerator__data_generation\u001b[0m\u001b[0;34m(\u001b[0m\u001b[0;34m[\u001b[0m\u001b[0;36m0\u001b[0m\u001b[0;34m,\u001b[0m \u001b[0;36m1\u001b[0m\u001b[0;34m,\u001b[0m \u001b[0;36m2\u001b[0m\u001b[0;34m]\u001b[0m\u001b[0;34m)\u001b[0m\u001b[0;34m\u001b[0m\u001b[0;34m\u001b[0m\u001b[0m\n\u001b[0m\u001b[1;32m      2\u001b[0m \u001b[0mb\u001b[0m\u001b[0;34m[\u001b[0m\u001b[0;36m0\u001b[0m\u001b[0;34m]\u001b[0m\u001b[0;34m[\u001b[0m\u001b[0;36m0\u001b[0m\u001b[0;34m]\u001b[0m\u001b[0;34m\u001b[0m\u001b[0;34m\u001b[0m\u001b[0m\n",
      "\u001b[0;32m~/msprime/tslearn/tslearn/treesBatchGenerator.py\u001b[0m in \u001b[0;36m__data_generation\u001b[0;34m(self, batchTreeIndices)\u001b[0m\n\u001b[1;32m    460\u001b[0m             \u001b[0;31m#cptd = pickle.load(open(cptdFilePath,\"rb\"))\u001b[0m\u001b[0;34m\u001b[0m\u001b[0;34m\u001b[0m\u001b[0;34m\u001b[0m\u001b[0m\n\u001b[1;32m    461\u001b[0m             \u001b[0mtsTensor\u001b[0m \u001b[0;34m=\u001b[0m \u001b[0mTsEncoder\u001b[0m\u001b[0;34m(\u001b[0m\u001b[0mts\u001b[0m\u001b[0;34m,\u001b[0m \u001b[0mwidth\u001b[0m\u001b[0;34m=\u001b[0m\u001b[0;36m1000\u001b[0m\u001b[0;34m)\u001b[0m\u001b[0;34m\u001b[0m\u001b[0;34m\u001b[0m\u001b[0m\n\u001b[0;32m--> 462\u001b[0;31m             \u001b[0mtsTensor\u001b[0m\u001b[0;34m.\u001b[0m\u001b[0madd_node_time_layer\u001b[0m\u001b[0;34m(\u001b[0m\u001b[0;34m)\u001b[0m\u001b[0;34m\u001b[0m\u001b[0;34m\u001b[0m\u001b[0m\n\u001b[0m\u001b[1;32m    463\u001b[0m             \u001b[0;31m#tsTensor.add_parent_pointer()\u001b[0m\u001b[0;34m\u001b[0m\u001b[0;34m\u001b[0m\u001b[0;34m\u001b[0m\u001b[0m\n\u001b[1;32m    464\u001b[0m             \u001b[0;31m#tsTensor.add_branch_length_layer()\u001b[0m\u001b[0;34m\u001b[0m\u001b[0;34m\u001b[0m\u001b[0;34m\u001b[0m\u001b[0m\n",
      "\u001b[0;32m~/msprime/tslearn/tslearn/encoder.py\u001b[0m in \u001b[0;36madd_node_time_layer\u001b[0;34m(self)\u001b[0m\n\u001b[1;32m    293\u001b[0m \u001b[0;34m\u001b[0m\u001b[0m\n\u001b[1;32m    294\u001b[0m         \u001b[0;32mfor\u001b[0m \u001b[0mi\u001b[0m\u001b[0;34m,\u001b[0m \u001b[0mnode\u001b[0m \u001b[0;32min\u001b[0m \u001b[0menumerate\u001b[0m\u001b[0;34m(\u001b[0m\u001b[0mself\u001b[0m\u001b[0;34m.\u001b[0m\u001b[0mts\u001b[0m\u001b[0;34m.\u001b[0m\u001b[0mnodes\u001b[0m\u001b[0;34m(\u001b[0m\u001b[0;34m)\u001b[0m\u001b[0;34m)\u001b[0m\u001b[0;34m:\u001b[0m\u001b[0;34m\u001b[0m\u001b[0;34m\u001b[0m\u001b[0m\n\u001b[0;32m--> 295\u001b[0;31m             \u001b[0mself\u001b[0m\u001b[0;34m.\u001b[0m\u001b[0mEncoding\u001b[0m\u001b[0;34m[\u001b[0m\u001b[0mi\u001b[0m\u001b[0;34m,\u001b[0m \u001b[0;36m0\u001b[0m\u001b[0;34m:\u001b[0m\u001b[0mself\u001b[0m\u001b[0;34m.\u001b[0m\u001b[0mwidth\u001b[0m\u001b[0;34m,\u001b[0m \u001b[0mself\u001b[0m\u001b[0;34m.\u001b[0m\u001b[0mlayerIndex\u001b[0m\u001b[0;34m]\u001b[0m \u001b[0;34m=\u001b[0m \u001b[0mnode\u001b[0m\u001b[0;34m.\u001b[0m\u001b[0mtime\u001b[0m\u001b[0;34m[\u001b[0m\u001b[0;36m0\u001b[0m\u001b[0;34m]\u001b[0m\u001b[0;34m\u001b[0m\u001b[0;34m\u001b[0m\u001b[0m\n\u001b[0m\u001b[1;32m    296\u001b[0m \u001b[0;34m\u001b[0m\u001b[0m\n\u001b[1;32m    297\u001b[0m         \u001b[0;32mreturn\u001b[0m \u001b[0;32mNone\u001b[0m\u001b[0;34m\u001b[0m\u001b[0;34m\u001b[0m\u001b[0m\n",
      "\u001b[0;31mTypeError\u001b[0m: 'float' object is not subscriptable"
     ]
    }
   ],
   "source": [
    "b = train_batch_gen._treesBatchGenerator__data_generation([0, 1, 2])\n",
    "b[0][0]"
   ]
  },
  {
   "cell_type": "code",
   "execution_count": 36,
   "id": "cbe46145-dcb9-4e3c-a54a-458de1b73114",
   "metadata": {},
   "outputs": [
    {
     "name": "stdout",
     "output_type": "stream",
     "text": [
      "dict_keys(['loss', 'acc', 'val_loss', 'val_acc', 'predictions', 'Y_test', 'name', 'target_labels'])\n"
     ]
    },
    {
     "data": {
      "image/png": "[encoded data removed]",
      "text/plain": [
       "<Figure size 432x288 with 1 Axes>"
      ]
     },
     "metadata": {
      "needs_background": "light"
     },
     "output_type": "display_data"
    },
    {
     "data": {
      "image/png": "[encoded data removed]",
      "text/plain": [
       "<Figure size 432x288 with 1 Axes>"
      ]
     },
     "metadata": {
      "needs_background": "light"
     },
     "output_type": "display_data"
    }
   ],
   "source": [
    "print(history.history.keys())\n",
    "#  \"Accuracy\"\n",
    "%matplotlib inline\n",
    "plt.plot(history.history['acc'])\n",
    "plt.plot(history.history['val_acc'])\n",
    "plt.title('model accuracy')\n",
    "plt.ylabel('accuracy')\n",
    "plt.xlabel('epoch')\n",
    "plt.legend(['train', 'validation'], loc='upper left')\n",
    "plt.show()\n",
    "# \"Loss\"\n",
    "plt.plot(history.history['loss'])\n",
    "plt.plot(history.history['val_loss'])\n",
    "plt.title('model loss')\n",
    "plt.ylabel('loss')\n",
    "plt.xlabel('epoch')\n",
    "plt.legend(['train', 'validation'], loc='upper left')\n",
    "plt.show()"
   ]
  },
  {
   "cell_type": "code",
   "execution_count": 29,
   "id": "673a94b1-d773-453a-8012-6a5c47e5a4b9",
   "metadata": {},
   "outputs": [],
   "source": [
    "import pickle\n",
    "import tskit\n"
   ]
  },
  {
   "cell_type": "code",
   "execution_count": null,
   "id": "4ce6f299-c931-4c08-89ab-bfa40e5b02b4",
   "metadata": {},
   "outputs": [],
   "source": []
  },
  {
   "cell_type": "code",
   "execution_count": 64,
   "id": "2b7c3210-a7e9-4c33-9479-5a2703a82be8",
   "metadata": {},
   "outputs": [
    {
     "name": "stdout",
     "output_type": "stream",
     "text": [
      "2.320305964932469 3.8860880188001885\n"
     ]
    }
   ],
   "source": [
    "info = pickle.load(open(\"trees/test/info.p\", \"rb\"))\n",
    "pis = []\n",
    "for i in range(len(info['sel_coefs'])):\n",
    "    ts = tskit.load(f\"trees/test/{i}.trees\")\n",
    "    pis.append(ts.diversity(mode='branch'))\n",
    "pis = np.array(pis)\n",
    "print(pis[:500].mean(),\n",
    "    pis[500:].mean()\n",
    "     )"
   ]
  },
  {
   "cell_type": "code",
   "execution_count": 65,
   "id": "5d103738-9c9e-44b8-ae73-a3973fba75ba",
   "metadata": {},
   "outputs": [
    {
     "data": {
      "text/plain": [
       "<AxesSubplot:xlabel='label', ylabel='pi'>"
      ]
     },
     "execution_count": 65,
     "metadata": {},
     "output_type": "execute_result"
    },
    {
     "data": {
      "image/png": "[encoded data removed]",
      "text/plain": [
       "<Figure size 432x288 with 1 Axes>"
      ]
     },
     "metadata": {
      "needs_background": "light"
     },
     "output_type": "display_data"
    }
   ],
   "source": [
    "%matplotlib inline\n",
    "import pandas as pd\n",
    "import seaborn as sns\n",
    "\n",
    "fac = pd.DataFrame({'pi':pis, 'label':np.ones(len(pis))})\n",
    "fac.label[500:] -= 1\n",
    "sns.boxplot(x='label', y='pi', data=fac)"
   ]
  },
  {
   "cell_type": "code",
   "execution_count": null,
   "id": "ebf30e0c-1f6e-4ce2-bac7-0612cb0255a8",
   "metadata": {},
   "outputs": [],
   "source": []
  },
  {
   "cell_type": "code",
   "execution_count": 23,
   "id": "cbe95b98-9702-4ff7-9a78-cfbfa5ef7cf8",
   "metadata": {},
   "outputs": [
    {
     "data": {
      "text/plain": [
       "dict_keys(['seed', 'N', 'Ne', 'mrPrior', 'rrPrior', 'chromLength', 's', 'ReLERNN', 'numReps', 'rho', 'mu', 'sel_coefs', 'numNodes', 'numEdges', 'numSites', 'numMutations', 'numTrees'])"
      ]
     },
     "execution_count": 23,
     "metadata": {},
     "output_type": "execute_result"
    }
   ],
   "source": [
    "info.keys()"
   ]
  },
  {
   "cell_type": "code",
   "execution_count": null,
   "id": "fb2e0f13-09d6-4761-b351-57957df20bc4",
   "metadata": {},
   "outputs": [],
   "source": []
  }
 ],
 "metadata": {
  "kernelspec": {
   "display_name": "Python 3",
   "language": "python",
   "name": "python3"
  },
  "language_info": {
   "codemirror_mode": {
    "name": "ipython",
    "version": 3
   },
   "file_extension": ".py",
   "mimetype": "text/x-python",
   "name": "python",
   "nbconvert_exporter": "python",
   "pygments_lexer": "ipython3",
   "version": "3.9.2"
  }
 },
 "nbformat": 4,
 "nbformat_minor": 5
}
